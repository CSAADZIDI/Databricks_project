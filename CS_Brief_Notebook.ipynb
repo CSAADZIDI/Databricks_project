{
 "cells": [
  {
   "cell_type": "markdown",
   "metadata": {
    "application/vnd.databricks.v1+cell": {
     "cellMetadata": {},
     "inputWidgets": {},
     "nuid": "64a0ee7c-7299-4d33-b87e-d482677e8403",
     "showTitle": false,
     "tableResultSettingsMap": {},
     "title": ""
    }
   },
   "source": [
    "# Lister les fichiers présents dans le DBFS"
   ]
  },
  {
   "cell_type": "code",
   "execution_count": 0,
   "metadata": {
    "application/vnd.databricks.v1+cell": {
     "cellMetadata": {
      "byteLimit": 2048000,
      "rowLimit": 10000
     },
     "inputWidgets": {},
     "nuid": "c5fdb11b-e473-4d5d-ab84-f518201efb25",
     "showTitle": true,
     "tableResultSettingsMap": {
      "0": {
       "dataGridStateBlob": "{\"version\":1,\"tableState\":{\"columnPinning\":{\"left\":[\"#row_number#\"],\"right\":[]},\"columnSizing\":{\"path\":437},\"columnVisibility\":{}},\"settings\":{\"columns\":{}},\"syncTimestamp\":1760537961043}",
       "filterBlob": null,
       "queryPlanFiltersBlob": null,
       "tableResultIndex": 0
      }
     },
     "title": "2024 files"
    }
   },
   "outputs": [
    {
     "output_type": "display_data",
     "data": {
      "text/html": [
       "<style scoped>\n",
       "  .table-result-container {\n",
       "    max-height: 300px;\n",
       "    overflow: auto;\n",
       "  }\n",
       "  table, th, td {\n",
       "    border: 1px solid black;\n",
       "    border-collapse: collapse;\n",
       "  }\n",
       "  th, td {\n",
       "    padding: 5px;\n",
       "  }\n",
       "  th {\n",
       "    text-align: left;\n",
       "  }\n",
       "</style><div class='table-result-container'><table class='table-result'><thead style='background-color: white'><tr><th>path</th><th>name</th><th>size</th><th>modificationTime</th></tr></thead><tbody><tr><td>dbfs:/FileStore/tables/brief_data/2024/yellow_tripdata_2024_01.parquet</td><td>yellow_tripdata_2024_01.parquet</td><td>49961641</td><td>1760537064000</td></tr><tr><td>dbfs:/FileStore/tables/brief_data/2024/yellow_tripdata_2024_02.parquet</td><td>yellow_tripdata_2024_02.parquet</td><td>50349284</td><td>1760537064000</td></tr><tr><td>dbfs:/FileStore/tables/brief_data/2024/yellow_tripdata_2024_03.parquet</td><td>yellow_tripdata_2024_03.parquet</td><td>60078280</td><td>1760537070000</td></tr><tr><td>dbfs:/FileStore/tables/brief_data/2024/yellow_tripdata_2024_04.parquet</td><td>yellow_tripdata_2024_04.parquet</td><td>59133625</td><td>1760537071000</td></tr><tr><td>dbfs:/FileStore/tables/brief_data/2024/yellow_tripdata_2024_05.parquet</td><td>yellow_tripdata_2024_05.parquet</td><td>62553128</td><td>1760537075000</td></tr><tr><td>dbfs:/FileStore/tables/brief_data/2024/yellow_tripdata_2024_06.parquet</td><td>yellow_tripdata_2024_06.parquet</td><td>59859922</td><td>1760537076000</td></tr><tr><td>dbfs:/FileStore/tables/brief_data/2024/yellow_tripdata_2024_07.parquet</td><td>yellow_tripdata_2024_07.parquet</td><td>52299432</td><td>1760537059000</td></tr><tr><td>dbfs:/FileStore/tables/brief_data/2024/yellow_tripdata_2024_08.parquet</td><td>yellow_tripdata_2024_08.parquet</td><td>51067350</td><td>1760537059000</td></tr><tr><td>dbfs:/FileStore/tables/brief_data/2024/yellow_tripdata_2024_09.parquet</td><td>yellow_tripdata_2024_09.parquet</td><td>61170186</td><td>1760537054000</td></tr><tr><td>dbfs:/FileStore/tables/brief_data/2024/yellow_tripdata_2024_10.parquet</td><td>yellow_tripdata_2024_10.parquet</td><td>64346071</td><td>1760537054000</td></tr><tr><td>dbfs:/FileStore/tables/brief_data/2024/yellow_tripdata_2024_11.parquet</td><td>yellow_tripdata_2024_11.parquet</td><td>60658709</td><td>1760537048000</td></tr><tr><td>dbfs:/FileStore/tables/brief_data/2024/yellow_tripdata_2024_12.parquet</td><td>yellow_tripdata_2024_12.parquet</td><td>61524085</td><td>1760537048000</td></tr></tbody></table></div>"
      ]
     },
     "metadata": {
      "application/vnd.databricks.v1+output": {
       "addedWidgets": {},
       "aggData": [],
       "aggError": "",
       "aggOverflow": false,
       "aggSchema": [],
       "aggSeriesLimitReached": false,
       "aggType": "",
       "arguments": {},
       "columnCustomDisplayInfos": {},
       "data": [
        [
         "dbfs:/FileStore/tables/brief_data/2024/yellow_tripdata_2024_01.parquet",
         "yellow_tripdata_2024_01.parquet",
         49961641,
         1760537064000
        ],
        [
         "dbfs:/FileStore/tables/brief_data/2024/yellow_tripdata_2024_02.parquet",
         "yellow_tripdata_2024_02.parquet",
         50349284,
         1760537064000
        ],
        [
         "dbfs:/FileStore/tables/brief_data/2024/yellow_tripdata_2024_03.parquet",
         "yellow_tripdata_2024_03.parquet",
         60078280,
         1760537070000
        ],
        [
         "dbfs:/FileStore/tables/brief_data/2024/yellow_tripdata_2024_04.parquet",
         "yellow_tripdata_2024_04.parquet",
         59133625,
         1760537071000
        ],
        [
         "dbfs:/FileStore/tables/brief_data/2024/yellow_tripdata_2024_05.parquet",
         "yellow_tripdata_2024_05.parquet",
         62553128,
         1760537075000
        ],
        [
         "dbfs:/FileStore/tables/brief_data/2024/yellow_tripdata_2024_06.parquet",
         "yellow_tripdata_2024_06.parquet",
         59859922,
         1760537076000
        ],
        [
         "dbfs:/FileStore/tables/brief_data/2024/yellow_tripdata_2024_07.parquet",
         "yellow_tripdata_2024_07.parquet",
         52299432,
         1760537059000
        ],
        [
         "dbfs:/FileStore/tables/brief_data/2024/yellow_tripdata_2024_08.parquet",
         "yellow_tripdata_2024_08.parquet",
         51067350,
         1760537059000
        ],
        [
         "dbfs:/FileStore/tables/brief_data/2024/yellow_tripdata_2024_09.parquet",
         "yellow_tripdata_2024_09.parquet",
         61170186,
         1760537054000
        ],
        [
         "dbfs:/FileStore/tables/brief_data/2024/yellow_tripdata_2024_10.parquet",
         "yellow_tripdata_2024_10.parquet",
         64346071,
         1760537054000
        ],
        [
         "dbfs:/FileStore/tables/brief_data/2024/yellow_tripdata_2024_11.parquet",
         "yellow_tripdata_2024_11.parquet",
         60658709,
         1760537048000
        ],
        [
         "dbfs:/FileStore/tables/brief_data/2024/yellow_tripdata_2024_12.parquet",
         "yellow_tripdata_2024_12.parquet",
         61524085,
         1760537048000
        ]
       ],
       "datasetInfos": [],
       "dbfsResultPath": null,
       "isJsonSchema": true,
       "metadata": {},
       "overflow": false,
       "plotOptions": {
        "customPlotOptions": {},
        "displayType": "table",
        "pivotAggregation": null,
        "pivotColumns": null,
        "xColumns": null,
        "yColumns": null
       },
       "removedWidgets": [],
       "schema": [
        {
         "metadata": "{}",
         "name": "path",
         "type": "\"string\""
        },
        {
         "metadata": "{}",
         "name": "name",
         "type": "\"string\""
        },
        {
         "metadata": "{}",
         "name": "size",
         "type": "\"long\""
        },
        {
         "metadata": "{}",
         "name": "modificationTime",
         "type": "\"long\""
        }
       ],
       "type": "table"
      }
     },
     "output_type": "display_data"
    }
   ],
   "source": [
    "display(dbutils.fs.ls(\"/FileStore/tables/brief_data/2024/\"))"
   ]
  },
  {
   "cell_type": "code",
   "execution_count": 0,
   "metadata": {
    "application/vnd.databricks.v1+cell": {
     "cellMetadata": {
      "byteLimit": 2048000,
      "rowLimit": 10000
     },
     "inputWidgets": {},
     "nuid": "5b761089-03b5-446e-ab9c-9aa3d0ebeee2",
     "showTitle": true,
     "tableResultSettingsMap": {
      "0": {
       "dataGridStateBlob": "{\"version\":1,\"tableState\":{\"columnPinning\":{\"left\":[\"#row_number#\"],\"right\":[]},\"columnSizing\":{\"path\":497},\"columnVisibility\":{}},\"settings\":{\"columns\":{}},\"syncTimestamp\":1760539833032}",
       "filterBlob": null,
       "queryPlanFiltersBlob": null,
       "tableResultIndex": 0
      }
     },
     "title": "2025 files"
    }
   },
   "outputs": [
    {
     "output_type": "display_data",
     "data": {
      "text/html": [
       "<style scoped>\n",
       "  .table-result-container {\n",
       "    max-height: 300px;\n",
       "    overflow: auto;\n",
       "  }\n",
       "  table, th, td {\n",
       "    border: 1px solid black;\n",
       "    border-collapse: collapse;\n",
       "  }\n",
       "  th, td {\n",
       "    padding: 5px;\n",
       "  }\n",
       "  th {\n",
       "    text-align: left;\n",
       "  }\n",
       "</style><div class='table-result-container'><table class='table-result'><thead style='background-color: white'><tr><th>path</th><th>name</th><th>size</th><th>modificationTime</th></tr></thead><tbody><tr><td>dbfs:/FileStore/tables/brief_data/2025/yellow_tripdata_2025_01.parquet</td><td>yellow_tripdata_2025_01.parquet</td><td>59158238</td><td>1760537519000</td></tr><tr><td>dbfs:/FileStore/tables/brief_data/2025/yellow_tripdata_2025_02.parquet</td><td>yellow_tripdata_2025_02.parquet</td><td>60343086</td><td>1760537518000</td></tr><tr><td>dbfs:/FileStore/tables/brief_data/2025/yellow_tripdata_2025_03.parquet</td><td>yellow_tripdata_2025_03.parquet</td><td>69964745</td><td>1760537514000</td></tr><tr><td>dbfs:/FileStore/tables/brief_data/2025/yellow_tripdata_2025_04.parquet</td><td>yellow_tripdata_2025_04.parquet</td><td>67352824</td><td>1760537513000</td></tr><tr><td>dbfs:/FileStore/tables/brief_data/2025/yellow_tripdata_2025_05.parquet</td><td>yellow_tripdata_2025_05.parquet</td><td>77837865</td><td>1760537507000</td></tr><tr><td>dbfs:/FileStore/tables/brief_data/2025/yellow_tripdata_2025_06.parquet</td><td>yellow_tripdata_2025_06.parquet</td><td>73542954</td><td>1760537506000</td></tr><tr><td>dbfs:/FileStore/tables/brief_data/2025/yellow_tripdata_2025_07.parquet</td><td>yellow_tripdata_2025_07.parquet</td><td>66943728</td><td>1760537500000</td></tr><tr><td>dbfs:/FileStore/tables/brief_data/2025/yellow_tripdata_2025_08.parquet</td><td>yellow_tripdata_2025_08.parquet</td><td>62293743</td><td>1760537500000</td></tr></tbody></table></div>"
      ]
     },
     "metadata": {
      "application/vnd.databricks.v1+output": {
       "addedWidgets": {},
       "aggData": [],
       "aggError": "",
       "aggOverflow": false,
       "aggSchema": [],
       "aggSeriesLimitReached": false,
       "aggType": "",
       "arguments": {},
       "columnCustomDisplayInfos": {},
       "data": [
        [
         "dbfs:/FileStore/tables/brief_data/2025/yellow_tripdata_2025_01.parquet",
         "yellow_tripdata_2025_01.parquet",
         59158238,
         1760537519000
        ],
        [
         "dbfs:/FileStore/tables/brief_data/2025/yellow_tripdata_2025_02.parquet",
         "yellow_tripdata_2025_02.parquet",
         60343086,
         1760537518000
        ],
        [
         "dbfs:/FileStore/tables/brief_data/2025/yellow_tripdata_2025_03.parquet",
         "yellow_tripdata_2025_03.parquet",
         69964745,
         1760537514000
        ],
        [
         "dbfs:/FileStore/tables/brief_data/2025/yellow_tripdata_2025_04.parquet",
         "yellow_tripdata_2025_04.parquet",
         67352824,
         1760537513000
        ],
        [
         "dbfs:/FileStore/tables/brief_data/2025/yellow_tripdata_2025_05.parquet",
         "yellow_tripdata_2025_05.parquet",
         77837865,
         1760537507000
        ],
        [
         "dbfs:/FileStore/tables/brief_data/2025/yellow_tripdata_2025_06.parquet",
         "yellow_tripdata_2025_06.parquet",
         73542954,
         1760537506000
        ],
        [
         "dbfs:/FileStore/tables/brief_data/2025/yellow_tripdata_2025_07.parquet",
         "yellow_tripdata_2025_07.parquet",
         66943728,
         1760537500000
        ],
        [
         "dbfs:/FileStore/tables/brief_data/2025/yellow_tripdata_2025_08.parquet",
         "yellow_tripdata_2025_08.parquet",
         62293743,
         1760537500000
        ]
       ],
       "datasetInfos": [],
       "dbfsResultPath": null,
       "isJsonSchema": true,
       "metadata": {},
       "overflow": false,
       "plotOptions": {
        "customPlotOptions": {},
        "displayType": "table",
        "pivotAggregation": null,
        "pivotColumns": null,
        "xColumns": null,
        "yColumns": null
       },
       "removedWidgets": [],
       "schema": [
        {
         "metadata": "{}",
         "name": "path",
         "type": "\"string\""
        },
        {
         "metadata": "{}",
         "name": "name",
         "type": "\"string\""
        },
        {
         "metadata": "{}",
         "name": "size",
         "type": "\"long\""
        },
        {
         "metadata": "{}",
         "name": "modificationTime",
         "type": "\"long\""
        }
       ],
       "type": "table"
      }
     },
     "output_type": "display_data"
    }
   ],
   "source": [
    "display(dbutils.fs.ls(\"/FileStore/tables/brief_data/2025/\"))"
   ]
  },
  {
   "cell_type": "code",
   "execution_count": 0,
   "metadata": {
    "application/vnd.databricks.v1+cell": {
     "cellMetadata": {
      "byteLimit": 2048000,
      "rowLimit": 10000
     },
     "inputWidgets": {},
     "nuid": "48021800-6760-4e22-9c88-7d4dace064bb",
     "showTitle": false,
     "tableResultSettingsMap": {},
     "title": ""
    }
   },
   "outputs": [
    {
     "output_type": "display_data",
     "data": {
      "text/html": [
       "<style scoped>\n",
       "  .table-result-container {\n",
       "    max-height: 300px;\n",
       "    overflow: auto;\n",
       "  }\n",
       "  table, th, td {\n",
       "    border: 1px solid black;\n",
       "    border-collapse: collapse;\n",
       "  }\n",
       "  th, td {\n",
       "    padding: 5px;\n",
       "  }\n",
       "  th {\n",
       "    text-align: left;\n",
       "  }\n",
       "</style><div class='table-result-container'><table class='table-result'><thead style='background-color: white'><tr><th>path</th><th>name</th><th>size</th><th>modificationTime</th></tr></thead><tbody><tr><td>dbfs:/FileStore/tables/brief_data/2025_results/avg_amount_per_passenger_count.parquet/</td><td>avg_amount_per_passenger_count.parquet/</td><td>0</td><td>1760618566000</td></tr><tr><td>dbfs:/FileStore/tables/brief_data/2025_results/avg_distance_per_payment_type.parquet/</td><td>avg_distance_per_payment_type.parquet/</td><td>0</td><td>1760618167000</td></tr><tr><td>dbfs:/FileStore/tables/brief_data/2025_results/avg_trips_duration_per_month.parquet/</td><td>avg_trips_duration_per_month.parquet/</td><td>0</td><td>1760610529000</td></tr><tr><td>dbfs:/FileStore/tables/brief_data/2025_results/tip_per_month.parquet/</td><td>tip_per_month.parquet/</td><td>0</td><td>1760618743000</td></tr><tr><td>dbfs:/FileStore/tables/brief_data/2025_results/top10_depart_zones.parquet/</td><td>top10_depart_zones.parquet/</td><td>0</td><td>1760610184000</td></tr></tbody></table></div>"
      ]
     },
     "metadata": {
      "application/vnd.databricks.v1+output": {
       "addedWidgets": {},
       "aggData": [],
       "aggError": "",
       "aggOverflow": false,
       "aggSchema": [],
       "aggSeriesLimitReached": false,
       "aggType": "",
       "arguments": {},
       "columnCustomDisplayInfos": {},
       "data": [
        [
         "dbfs:/FileStore/tables/brief_data/2025_results/avg_amount_per_passenger_count.parquet/",
         "avg_amount_per_passenger_count.parquet/",
         0,
         1760618566000
        ],
        [
         "dbfs:/FileStore/tables/brief_data/2025_results/avg_distance_per_payment_type.parquet/",
         "avg_distance_per_payment_type.parquet/",
         0,
         1760618167000
        ],
        [
         "dbfs:/FileStore/tables/brief_data/2025_results/avg_trips_duration_per_month.parquet/",
         "avg_trips_duration_per_month.parquet/",
         0,
         1760610529000
        ],
        [
         "dbfs:/FileStore/tables/brief_data/2025_results/tip_per_month.parquet/",
         "tip_per_month.parquet/",
         0,
         1760618743000
        ],
        [
         "dbfs:/FileStore/tables/brief_data/2025_results/top10_depart_zones.parquet/",
         "top10_depart_zones.parquet/",
         0,
         1760610184000
        ]
       ],
       "datasetInfos": [],
       "dbfsResultPath": null,
       "isJsonSchema": true,
       "metadata": {},
       "overflow": false,
       "plotOptions": {
        "customPlotOptions": {},
        "displayType": "table",
        "pivotAggregation": null,
        "pivotColumns": null,
        "xColumns": null,
        "yColumns": null
       },
       "removedWidgets": [],
       "schema": [
        {
         "metadata": "{}",
         "name": "path",
         "type": "\"string\""
        },
        {
         "metadata": "{}",
         "name": "name",
         "type": "\"string\""
        },
        {
         "metadata": "{}",
         "name": "size",
         "type": "\"long\""
        },
        {
         "metadata": "{}",
         "name": "modificationTime",
         "type": "\"long\""
        }
       ],
       "type": "table"
      }
     },
     "output_type": "display_data"
    }
   ],
   "source": [
    "\n",
    "display(dbutils.fs.ls(\"/FileStore/tables/brief_data/2025_results/\"))\n"
   ]
  },
  {
   "cell_type": "code",
   "execution_count": 0,
   "metadata": {
    "application/vnd.databricks.v1+cell": {
     "cellMetadata": {
      "byteLimit": 2048000,
      "rowLimit": 10000
     },
     "inputWidgets": {},
     "nuid": "2dfbe52e-a521-4f88-84ed-3de8dc388036",
     "showTitle": false,
     "tableResultSettingsMap": {},
     "title": ""
    }
   },
   "outputs": [
    {
     "output_type": "display_data",
     "data": {
      "text/html": [
       "<style scoped>\n",
       "  .table-result-container {\n",
       "    max-height: 300px;\n",
       "    overflow: auto;\n",
       "  }\n",
       "  table, th, td {\n",
       "    border: 1px solid black;\n",
       "    border-collapse: collapse;\n",
       "  }\n",
       "  th, td {\n",
       "    padding: 5px;\n",
       "  }\n",
       "  th {\n",
       "    text-align: left;\n",
       "  }\n",
       "</style><div class='table-result-container'><table class='table-result'><thead style='background-color: white'><tr><th>path</th><th>name</th><th>size</th><th>modificationTime</th></tr></thead><tbody><tr><td>dbfs:/FileStore/tables/brief_data/2024_results/avg_amount_per_passenger_count.parquet/</td><td>avg_amount_per_passenger_count.parquet/</td><td>0</td><td>1760624725000</td></tr><tr><td>dbfs:/FileStore/tables/brief_data/2024_results/avg_distance_per_payment_type.parquet/</td><td>avg_distance_per_payment_type.parquet/</td><td>0</td><td>1760624830000</td></tr><tr><td>dbfs:/FileStore/tables/brief_data/2024_results/avg_trips_duration_per_month.parquet/</td><td>avg_trips_duration_per_month.parquet/</td><td>0</td><td>1760624525000</td></tr><tr><td>dbfs:/FileStore/tables/brief_data/2024_results/tip_per_month.parquet/</td><td>tip_per_month.parquet/</td><td>0</td><td>1760624772000</td></tr><tr><td>dbfs:/FileStore/tables/brief_data/2024_results/top10_depart_zones.parquet/</td><td>top10_depart_zones.parquet/</td><td>0</td><td>1760624292000</td></tr></tbody></table></div>"
      ]
     },
     "metadata": {
      "application/vnd.databricks.v1+output": {
       "addedWidgets": {},
       "aggData": [],
       "aggError": "",
       "aggOverflow": false,
       "aggSchema": [],
       "aggSeriesLimitReached": false,
       "aggType": "",
       "arguments": {},
       "columnCustomDisplayInfos": {},
       "data": [
        [
         "dbfs:/FileStore/tables/brief_data/2024_results/avg_amount_per_passenger_count.parquet/",
         "avg_amount_per_passenger_count.parquet/",
         0,
         1760624725000
        ],
        [
         "dbfs:/FileStore/tables/brief_data/2024_results/avg_distance_per_payment_type.parquet/",
         "avg_distance_per_payment_type.parquet/",
         0,
         1760624830000
        ],
        [
         "dbfs:/FileStore/tables/brief_data/2024_results/avg_trips_duration_per_month.parquet/",
         "avg_trips_duration_per_month.parquet/",
         0,
         1760624525000
        ],
        [
         "dbfs:/FileStore/tables/brief_data/2024_results/tip_per_month.parquet/",
         "tip_per_month.parquet/",
         0,
         1760624772000
        ],
        [
         "dbfs:/FileStore/tables/brief_data/2024_results/top10_depart_zones.parquet/",
         "top10_depart_zones.parquet/",
         0,
         1760624292000
        ]
       ],
       "datasetInfos": [],
       "dbfsResultPath": null,
       "isJsonSchema": true,
       "metadata": {},
       "overflow": false,
       "plotOptions": {
        "customPlotOptions": {},
        "displayType": "table",
        "pivotAggregation": null,
        "pivotColumns": null,
        "xColumns": null,
        "yColumns": null
       },
       "removedWidgets": [],
       "schema": [
        {
         "metadata": "{}",
         "name": "path",
         "type": "\"string\""
        },
        {
         "metadata": "{}",
         "name": "name",
         "type": "\"string\""
        },
        {
         "metadata": "{}",
         "name": "size",
         "type": "\"long\""
        },
        {
         "metadata": "{}",
         "name": "modificationTime",
         "type": "\"long\""
        }
       ],
       "type": "table"
      }
     },
     "output_type": "display_data"
    }
   ],
   "source": [
    "display(dbutils.fs.ls(\"/FileStore/tables/brief_data/2024_results/\"))"
   ]
  },
  {
   "cell_type": "markdown",
   "metadata": {
    "application/vnd.databricks.v1+cell": {
     "cellMetadata": {},
     "inputWidgets": {},
     "nuid": "e713906c-1252-44b0-bb6e-6b515c6b1db8",
     "showTitle": false,
     "tableResultSettingsMap": {},
     "title": ""
    }
   },
   "source": [
    "# 2025"
   ]
  },
  {
   "cell_type": "markdown",
   "metadata": {
    "application/vnd.databricks.v1+cell": {
     "cellMetadata": {},
     "inputWidgets": {},
     "nuid": "1d3e6622-d8ed-47b1-888d-b5b6a5fc0f81",
     "showTitle": false,
     "tableResultSettingsMap": {},
     "title": ""
    }
   },
   "source": [
    "## Creer une base de données pour les résultats dans hive metastore"
   ]
  },
  {
   "cell_type": "code",
   "execution_count": 0,
   "metadata": {
    "application/vnd.databricks.v1+cell": {
     "cellMetadata": {},
     "inputWidgets": {},
     "nuid": "707cf642-66df-4b74-95bc-277f1fb56a80",
     "showTitle": false,
     "tableResultSettingsMap": {},
     "title": ""
    }
   },
   "outputs": [],
   "source": [
    "# Create db in the hive metaverse for 2025 results\n",
    "\n",
    "spark.sql(\"CREATE DATABASE IF NOT EXISTS brief_data_2025_results LOCATION 'dbfs:/user/hive/warehouse/brief_data_2025_results.db'\")"
   ]
  },
  {
   "cell_type": "markdown",
   "metadata": {
    "application/vnd.databricks.v1+cell": {
     "cellMetadata": {},
     "inputWidgets": {},
     "nuid": "6e2b05dc-ed56-4d93-9c78-01014feb770d",
     "showTitle": false,
     "tableResultSettingsMap": {},
     "title": ""
    }
   },
   "source": [
    "## Les requetes"
   ]
  },
  {
   "cell_type": "code",
   "execution_count": 0,
   "metadata": {
    "application/vnd.databricks.v1+cell": {
     "cellMetadata": {
      "byteLimit": 2048000,
      "rowLimit": 10000
     },
     "inputWidgets": {},
     "nuid": "26e8135e-f4fd-4dde-90fa-f7a78e98664d",
     "showTitle": true,
     "tableResultSettingsMap": {},
     "title": "First query"
    }
   },
   "outputs": [
    {
     "output_type": "stream",
     "name": "stdout",
     "output_type": "stream",
     "text": [
      "+-----+------------+----------+----+\n|month|PULocationID|nb_trajets|rank|\n+-----+------------+----------+----+\n|    1|         161|    169977|   1|\n|    1|         237|    163704|   2|\n|    1|         236|    155647|   3|\n|    1|         132|    146138|   4|\n|    1|         230|    125830|   5|\n|    1|         186|    119131|   6|\n|    1|         162|    117930|   7|\n|    1|         142|    110584|   8|\n|    1|         239|     96614|   9|\n|    1|         163|     95905|  10|\n|    2|         161|    161413|   1|\n|    2|         237|    157292|   2|\n|    2|         236|    148094|   3|\n|    2|         132|    125460|   4|\n|    2|         230|    114529|   5|\n|    2|         162|    113721|   6|\n|    2|         186|    113389|   7|\n|    2|         142|    104361|   8|\n|    2|         234|    102638|   9|\n|    2|         170|     97272|  10|\n+-----+------------+----------+----+\nonly showing top 20 rows\n"
     ]
    }
   ],
   "source": [
    "from pyspark.sql.functions import col, month, year, avg, sum as spark_sum, count, desc, to_timestamp, expr, rank\n",
    "from pyspark.sql.window import Window\n",
    "\n",
    "# Charger les fichiers de 2025\n",
    "df_2025 = spark.read.parquet(\"dbfs:/FileStore/tables/brief_data/2025/*\")\n",
    "\n",
    "# Convertir les colonnes de dates en timestamp\n",
    "df_2025 = df_2025.withColumn(\"tpep_pickup_datetime\", to_timestamp(col(\"tpep_pickup_datetime\"))) \\\n",
    "                 .withColumn(\"tpep_dropoff_datetime\", to_timestamp(col(\"tpep_dropoff_datetime\")))\n",
    "\n",
    "# Check if month 12 exists\n",
    "    # df_2025.select(\"tpep_pickup_datetime\").where(month(col(\"tpep_pickup_datetime\")) == 12).show()\n",
    "# Ajouter colonne mois\n",
    "df_2025 = df_2025.withColumn(\"month\", month(col(\"tpep_pickup_datetime\")))\n",
    "\n",
    "# 1. Top 10 zones de départ les plus fréquentées chaque mois\n",
    "\n",
    "# Aggregate trip counts per month and pickup zone\n",
    "zone_counts = (\n",
    "    df_2025.groupBy(\"month\", \"PULocationID\")\n",
    "    .agg(count(\"*\").alias(\"nb_trajets\"))\n",
    ")\n",
    "\n",
    "# Define a window that ranks zones within each month by trip count\n",
    "windowSpec = Window.partitionBy(\"month\").orderBy(desc(\"nb_trajets\"))\n",
    "\n",
    "# Add rank column and filter top 10\n",
    "top10_depart_zones = (\n",
    "    zone_counts\n",
    "    .withColumn(\"rank\", rank().over(windowSpec))\n",
    "    .filter(col(\"rank\") <= 10)\n",
    "    .orderBy(\"month\", \"rank\")\n",
    ")\n",
    "\n",
    "top10_depart_zones.show()\n",
    "\n",
    "top10_depart_zones.write.mode(\"overwrite\").parquet(\"dbfs:/FileStore/tables/brief_data/2025_results/top10_depart_zones.parquet\")\n",
    "top10_depart_zones.write.mode(\"overwrite\").saveAsTable(\"brief_data_2025_results.top10_depart_zones\")"
   ]
  },
  {
   "cell_type": "code",
   "execution_count": 0,
   "metadata": {
    "application/vnd.databricks.v1+cell": {
     "cellMetadata": {
      "byteLimit": 2048000,
      "rowLimit": 10000
     },
     "inputWidgets": {},
     "nuid": "04600da3-ad69-4e8c-b1eb-2a2d381f2c27",
     "showTitle": true,
     "tableResultSettingsMap": {},
     "title": "Second query"
    }
   },
   "outputs": [
    {
     "output_type": "display_data",
     "data": {
      "text/html": [
       "<style scoped>\n",
       "  .table-result-container {\n",
       "    max-height: 300px;\n",
       "    overflow: auto;\n",
       "  }\n",
       "  table, th, td {\n",
       "    border: 1px solid black;\n",
       "    border-collapse: collapse;\n",
       "  }\n",
       "  th, td {\n",
       "    padding: 5px;\n",
       "  }\n",
       "  th {\n",
       "    text-align: left;\n",
       "  }\n",
       "</style><div class='table-result-container'><table class='table-result'><thead style='background-color: white'><tr><th>month</th><th>duree_moyenne_min</th></tr></thead><tbody><tr><td>1</td><td>15.01813008682324</td></tr><tr><td>2</td><td>15.407841873926987</td></tr><tr><td>3</td><td>15.989197697725618</td></tr><tr><td>4</td><td>16.62802115885467</td></tr><tr><td>5</td><td>17.911733002402833</td></tr><tr><td>6</td><td>17.409922971566605</td></tr><tr><td>7</td><td>17.09944761066511</td></tr><tr><td>8</td><td>17.27992699181318</td></tr><tr><td>9</td><td>15.583333333333334</td></tr><tr><td>12</td><td>16.81439393939394</td></tr></tbody></table></div>"
      ]
     },
     "metadata": {
      "application/vnd.databricks.v1+output": {
       "addedWidgets": {},
       "aggData": [],
       "aggError": "",
       "aggOverflow": false,
       "aggSchema": [],
       "aggSeriesLimitReached": false,
       "aggType": "",
       "arguments": {},
       "columnCustomDisplayInfos": {},
       "data": [
        [
         1,
         15.01813008682324
        ],
        [
         2,
         15.407841873926987
        ],
        [
         3,
         15.989197697725618
        ],
        [
         4,
         16.62802115885467
        ],
        [
         5,
         17.911733002402833
        ],
        [
         6,
         17.409922971566605
        ],
        [
         7,
         17.09944761066511
        ],
        [
         8,
         17.27992699181318
        ],
        [
         9,
         15.583333333333334
        ],
        [
         12,
         16.81439393939394
        ]
       ],
       "datasetInfos": [],
       "dbfsResultPath": null,
       "isJsonSchema": true,
       "metadata": {},
       "overflow": false,
       "plotOptions": {
        "customPlotOptions": {},
        "displayType": "table",
        "pivotAggregation": null,
        "pivotColumns": null,
        "xColumns": null,
        "yColumns": null
       },
       "removedWidgets": [],
       "schema": [
        {
         "metadata": "{}",
         "name": "month",
         "type": "\"integer\""
        },
        {
         "metadata": "{}",
         "name": "duree_moyenne_min",
         "type": "\"double\""
        }
       ],
       "type": "table"
      }
     },
     "output_type": "display_data"
    }
   ],
   "source": [
    "\n",
    "# 2. Durée moyenne des trajets par mois (en minutes)\n",
    "df_2025 = df_2025.withColumn(\n",
    "    \"trip_duration_min\",\n",
    "    (col(\"tpep_dropoff_datetime\").cast(\"long\") - col(\"tpep_pickup_datetime\").cast(\"long\")) / 60\n",
    ")\n",
    "avg_trips_duration_per_month = (\n",
    "    df_2025.groupBy(\"month\")\n",
    "    .agg(avg(\"trip_duration_min\").alias(\"duree_moyenne_min\"))\n",
    "    .orderBy(\"month\")\n",
    ")\n",
    "display(avg_trips_duration_per_month)\n",
    "avg_trips_duration_per_month.write.mode(\"overwrite\").parquet(\"dbfs:/FileStore/tables/brief_data/2025_results/avg_trips_duration_per_month.parquet\")\n",
    "avg_trips_duration_per_month.write.mode(\"overwrite\").saveAsTable(\"brief_data_2025_results.avg_trips_duration_per_month\")\n",
    "\n"
   ]
  },
  {
   "cell_type": "code",
   "execution_count": 0,
   "metadata": {
    "application/vnd.databricks.v1+cell": {
     "cellMetadata": {
      "byteLimit": 2048000,
      "rowLimit": 10000
     },
     "inputWidgets": {},
     "nuid": "f956fd82-08db-461f-95ab-dd29cfc06fe9",
     "showTitle": true,
     "tableResultSettingsMap": {},
     "title": "Third query"
    }
   },
   "outputs": [
    {
     "output_type": "display_data",
     "data": {
      "text/html": [
       "<style scoped>\n",
       "  .table-result-container {\n",
       "    max-height: 300px;\n",
       "    overflow: auto;\n",
       "  }\n",
       "  table, th, td {\n",
       "    border: 1px solid black;\n",
       "    border-collapse: collapse;\n",
       "  }\n",
       "  th, td {\n",
       "    padding: 5px;\n",
       "  }\n",
       "  th {\n",
       "    text-align: left;\n",
       "  }\n",
       "</style><div class='table-result-container'><table class='table-result'><thead style='background-color: white'><tr><th>payment_type</th><th>distance_moyenne</th></tr></thead><tbody><tr><td>0</td><td>17.91087064637173</td></tr><tr><td>1</td><td>3.558946986194505</td></tr><tr><td>3</td><td>2.7744847822415544</td></tr><tr><td>2</td><td>3.3514405170765094</td></tr><tr><td>4</td><td>4.340394715432738</td></tr><tr><td>5</td><td>3.3333333333333335</td></tr></tbody></table></div>"
      ]
     },
     "metadata": {
      "application/vnd.databricks.v1+output": {
       "addedWidgets": {},
       "aggData": [],
       "aggError": "",
       "aggOverflow": false,
       "aggSchema": [],
       "aggSeriesLimitReached": false,
       "aggType": "",
       "arguments": {},
       "columnCustomDisplayInfos": {},
       "data": [
        [
         0,
         17.91087064637173
        ],
        [
         1,
         3.558946986194505
        ],
        [
         3,
         2.7744847822415544
        ],
        [
         2,
         3.3514405170765094
        ],
        [
         4,
         4.340394715432738
        ],
        [
         5,
         3.3333333333333335
        ]
       ],
       "datasetInfos": [],
       "dbfsResultPath": null,
       "isJsonSchema": true,
       "metadata": {},
       "overflow": false,
       "plotOptions": {
        "customPlotOptions": {},
        "displayType": "table",
        "pivotAggregation": null,
        "pivotColumns": null,
        "xColumns": null,
        "yColumns": null
       },
       "removedWidgets": [],
       "schema": [
        {
         "metadata": "{}",
         "name": "payment_type",
         "type": "\"long\""
        },
        {
         "metadata": "{}",
         "name": "distance_moyenne",
         "type": "\"double\""
        }
       ],
       "type": "table"
      }
     },
     "output_type": "display_data"
    }
   ],
   "source": [
    "# 3. Distance moyenne par type de paiement\n",
    "avg_distance_per_payment_type = (\n",
    "    df_2025.groupBy(\"payment_type\")\n",
    "    .agg(avg(col(\"trip_distance\").cast(\"double\")).alias(\"distance_moyenne\"))\n",
    ")\n",
    "display(avg_distance_per_payment_type)\n",
    "avg_distance_per_payment_type.write.mode(\"overwrite\").parquet(\"dbfs:/FileStore/tables/brief_data/2025_results/avg_distance_per_payment_type.parquet\")\n",
    "avg_distance_per_payment_type.write.mode(\"overwrite\").saveAsTable(\"brief_data_2025_results.avg_distance_per_payment_type\")\n"
   ]
  },
  {
   "cell_type": "code",
   "execution_count": 0,
   "metadata": {
    "application/vnd.databricks.v1+cell": {
     "cellMetadata": {
      "byteLimit": 2048000,
      "rowLimit": 10000
     },
     "inputWidgets": {},
     "nuid": "8ddc48ed-03fd-4307-ba0e-446941d3ee90",
     "showTitle": true,
     "tableResultSettingsMap": {},
     "title": "Fourth query"
    }
   },
   "outputs": [
    {
     "output_type": "display_data",
     "data": {
      "text/html": [
       "<style scoped>\n",
       "  .table-result-container {\n",
       "    max-height: 300px;\n",
       "    overflow: auto;\n",
       "  }\n",
       "  table, th, td {\n",
       "    border: 1px solid black;\n",
       "    border-collapse: collapse;\n",
       "  }\n",
       "  th, td {\n",
       "    padding: 5px;\n",
       "  }\n",
       "  th {\n",
       "    text-align: left;\n",
       "  }\n",
       "</style><div class='table-result-container'><table class='table-result'><thead style='background-color: white'><tr><th>passenger_count</th><th>montant_moyen</th></tr></thead><tbody><tr><td>null</td><td>21.847981649302568</td></tr><tr><td>0</td><td>25.28628104549295</td></tr><tr><td>1</td><td>27.099586266083872</td></tr><tr><td>2</td><td>30.54720962407008</td></tr><tr><td>3</td><td>30.46626322013798</td></tr><tr><td>4</td><td>33.16086588295623</td></tr><tr><td>5</td><td>26.555476194211355</td></tr><tr><td>6</td><td>26.82071756075189</td></tr><tr><td>7</td><td>85.40904761904763</td></tr><tr><td>8</td><td>99.59546875000001</td></tr><tr><td>9</td><td>88.49206896551723</td></tr></tbody></table></div>"
      ]
     },
     "metadata": {
      "application/vnd.databricks.v1+output": {
       "addedWidgets": {},
       "aggData": [],
       "aggError": "",
       "aggOverflow": false,
       "aggSchema": [],
       "aggSeriesLimitReached": false,
       "aggType": "",
       "arguments": {},
       "columnCustomDisplayInfos": {},
       "data": [
        [
         null,
         21.847981649302568
        ],
        [
         0,
         25.28628104549295
        ],
        [
         1,
         27.099586266083872
        ],
        [
         2,
         30.54720962407008
        ],
        [
         3,
         30.46626322013798
        ],
        [
         4,
         33.16086588295623
        ],
        [
         5,
         26.555476194211355
        ],
        [
         6,
         26.82071756075189
        ],
        [
         7,
         85.40904761904763
        ],
        [
         8,
         99.59546875000001
        ],
        [
         9,
         88.49206896551723
        ]
       ],
       "datasetInfos": [],
       "dbfsResultPath": null,
       "isJsonSchema": true,
       "metadata": {},
       "overflow": false,
       "plotOptions": {
        "customPlotOptions": {},
        "displayType": "table",
        "pivotAggregation": null,
        "pivotColumns": null,
        "xColumns": null,
        "yColumns": null
       },
       "removedWidgets": [],
       "schema": [
        {
         "metadata": "{}",
         "name": "passenger_count",
         "type": "\"long\""
        },
        {
         "metadata": "{}",
         "name": "montant_moyen",
         "type": "\"double\""
        }
       ],
       "type": "table"
      }
     },
     "output_type": "display_data"
    }
   ],
   "source": [
    "\n",
    "# 4. Montant moyen des courses par nombre de passagers\n",
    "avg_amount_per_passenger_count = (\n",
    "    df_2025.groupBy(\"passenger_count\")\n",
    "    .agg(avg(col(\"total_amount\").cast(\"double\")).alias(\"montant_moyen\"))\n",
    "    .orderBy(\"passenger_count\")\n",
    ")\n",
    "display(avg_amount_per_passenger_count)\n",
    "\n",
    "avg_amount_per_passenger_count.write.mode(\"overwrite\").parquet(\"dbfs:/FileStore/tables/brief_data/2025_results/avg_amount_per_passenger_count.parquet\")\n",
    "avg_amount_per_passenger_count.write.mode(\"overwrite\").saveAsTable(\"brief_data_2025_results.avg_amount_per_passenger_count\")\n",
    "\n",
    "\n"
   ]
  },
  {
   "cell_type": "code",
   "execution_count": 0,
   "metadata": {
    "application/vnd.databricks.v1+cell": {
     "cellMetadata": {
      "byteLimit": 2048000,
      "rowLimit": 10000
     },
     "inputWidgets": {},
     "nuid": "20a2dd1a-2ccc-45ae-bae6-ebb5102901d0",
     "showTitle": true,
     "tableResultSettingsMap": {},
     "title": "Fifth query"
    }
   },
   "outputs": [
    {
     "output_type": "display_data",
     "data": {
      "text/html": [
       "<style scoped>\n",
       "  .table-result-container {\n",
       "    max-height: 300px;\n",
       "    overflow: auto;\n",
       "  }\n",
       "  table, th, td {\n",
       "    border: 1px solid black;\n",
       "    border-collapse: collapse;\n",
       "  }\n",
       "  th, td {\n",
       "    padding: 5px;\n",
       "  }\n",
       "  th {\n",
       "    text-align: left;\n",
       "  }\n",
       "</style><div class='table-result-container'><table class='table-result'><thead style='background-color: white'><tr><th>month</th><th>somme_pourboires</th></tr></thead><tbody><tr><td>1</td><td>1.0286048369995195E7</td></tr><tr><td>2</td><td>9766920.479996877</td></tr><tr><td>3</td><td>1.1850613539990017E7</td></tr><tr><td>4</td><td>1.1830980689992746E7</td></tr><tr><td>5</td><td>1.3124065449988315E7</td></tr><tr><td>6</td><td>1.1899584699991655E7</td></tr><tr><td>7</td><td>1.047310526999529E7</td></tr><tr><td>8</td><td>9711516.75999626</td></tr><tr><td>9</td><td>4.27</td></tr><tr><td>12</td><td>85.07</td></tr></tbody></table></div>"
      ]
     },
     "metadata": {
      "application/vnd.databricks.v1+output": {
       "addedWidgets": {},
       "aggData": [],
       "aggError": "",
       "aggOverflow": false,
       "aggSchema": [],
       "aggSeriesLimitReached": false,
       "aggType": "",
       "arguments": {},
       "columnCustomDisplayInfos": {},
       "data": [
        [
         1,
         1.0286048369995195E7
        ],
        [
         2,
         9766920.479996877
        ],
        [
         3,
         1.1850613539990017E7
        ],
        [
         4,
         1.1830980689992746E7
        ],
        [
         5,
         1.3124065449988315E7
        ],
        [
         6,
         1.1899584699991655E7
        ],
        [
         7,
         1.047310526999529E7
        ],
        [
         8,
         9711516.75999626
        ],
        [
         9,
         4.27
        ],
        [
         12,
         85.07
        ]
       ],
       "datasetInfos": [],
       "dbfsResultPath": null,
       "isJsonSchema": true,
       "metadata": {},
       "overflow": false,
       "plotOptions": {
        "customPlotOptions": {},
        "displayType": "table",
        "pivotAggregation": null,
        "pivotColumns": null,
        "xColumns": null,
        "yColumns": null
       },
       "removedWidgets": [],
       "schema": [
        {
         "metadata": "{}",
         "name": "month",
         "type": "\"integer\""
        },
        {
         "metadata": "{}",
         "name": "somme_pourboires",
         "type": "\"double\""
        }
       ],
       "type": "table"
      }
     },
     "output_type": "display_data"
    }
   ],
   "source": [
    "# 5. Somme totale des pourboires versés chaque mois\n",
    "tip_per_month = (\n",
    "    df_2025.groupBy(\"month\")\n",
    "    .agg(spark_sum(col(\"tip_amount\").cast(\"double\")).alias(\"somme_pourboires\"))\n",
    "    .orderBy(\"month\")\n",
    ")\n",
    "display(tip_per_month)\n",
    "\n",
    "tip_per_month.write.mode(\"overwrite\").parquet(\"dbfs:/FileStore/tables/brief_data/2025_results/tip_per_month.parquet\")\n",
    "tip_per_month.write.mode(\"overwrite\").saveAsTable(\"brief_data_2025_results.tip_per_month\")\n"
   ]
  },
  {
   "cell_type": "markdown",
   "metadata": {
    "application/vnd.databricks.v1+cell": {
     "cellMetadata": {},
     "inputWidgets": {},
     "nuid": "1672facc-485b-4714-b98c-980348a596b2",
     "showTitle": false,
     "tableResultSettingsMap": {},
     "title": ""
    }
   },
   "source": [
    "## Tester la connexion à Azure SQL Database"
   ]
  },
  {
   "cell_type": "code",
   "execution_count": 0,
   "metadata": {
    "application/vnd.databricks.v1+cell": {
     "cellMetadata": {
      "byteLimit": 2048000,
      "rowLimit": 10000
     },
     "inputWidgets": {},
     "nuid": "f0fe50ed-4801-4b88-9005-3f85ddaba3e0",
     "showTitle": false,
     "tableResultSettingsMap": {},
     "title": ""
    }
   },
   "outputs": [
    {
     "output_type": "stream",
     "name": "stdout",
     "output_type": "stream",
     "text": [
      "Collecting python-dotenv\n  Downloading python_dotenv-1.1.1-py3-none-any.whl.metadata (24 kB)\nDownloading python_dotenv-1.1.1-py3-none-any.whl (20 kB)\nInstalling collected packages: python-dotenv\nSuccessfully installed python-dotenv-1.1.1\n\u001B[43mNote: you may need to restart the kernel using %restart_python or dbutils.library.restartPython() to use updated packages.\u001B[0m\n"
     ]
    }
   ],
   "source": [
    "%pip install python-dotenv\n"
   ]
  },
  {
   "cell_type": "code",
   "execution_count": 0,
   "metadata": {
    "application/vnd.databricks.v1+cell": {
     "cellMetadata": {
      "byteLimit": 2048000,
      "rowLimit": 10000
     },
     "inputWidgets": {},
     "nuid": "8be1ccc3-6f8a-40ba-9a9d-bbaace6ab5f3",
     "showTitle": false,
     "tableResultSettingsMap": {},
     "title": ""
    }
   },
   "outputs": [],
   "source": [
    "%restart_python"
   ]
  },
  {
   "cell_type": "code",
   "execution_count": 0,
   "metadata": {
    "application/vnd.databricks.v1+cell": {
     "cellMetadata": {
      "byteLimit": 2048000,
      "rowLimit": 10000
     },
     "inputWidgets": {},
     "nuid": "2989042b-bae2-4d0b-b9ac-3fe67b42e795",
     "showTitle": false,
     "tableResultSettingsMap": {},
     "title": ""
    }
   },
   "outputs": [
    {
     "output_type": "display_data",
     "data": {
      "text/html": [
       "<style scoped>\n",
       "  .table-result-container {\n",
       "    max-height: 300px;\n",
       "    overflow: auto;\n",
       "  }\n",
       "  table, th, td {\n",
       "    border: 1px solid black;\n",
       "    border-collapse: collapse;\n",
       "  }\n",
       "  th, td {\n",
       "    padding: 5px;\n",
       "  }\n",
       "  th {\n",
       "    text-align: left;\n",
       "  }\n",
       "</style><div class='table-result-container'><table class='table-result'><thead style='background-color: white'><tr><th>name</th></tr></thead><tbody></tbody></table></div>"
      ]
     },
     "metadata": {
      "application/vnd.databricks.v1+output": {
       "addedWidgets": {},
       "aggData": [],
       "aggError": "",
       "aggOverflow": false,
       "aggSchema": [],
       "aggSeriesLimitReached": false,
       "aggType": "",
       "arguments": {},
       "columnCustomDisplayInfos": {},
       "data": [],
       "datasetInfos": [],
       "dbfsResultPath": null,
       "isJsonSchema": true,
       "metadata": {},
       "overflow": false,
       "plotOptions": {
        "customPlotOptions": {},
        "displayType": "table",
        "pivotAggregation": null,
        "pivotColumns": null,
        "xColumns": null,
        "yColumns": null
       },
       "removedWidgets": [],
       "schema": [
        {
         "metadata": "{\"signed\":false,\"scale\":0,\"isTimestampNTZ\":false,\"jdbcClientType\":\"nvarchar\"}",
         "name": "name",
         "type": "\"string\""
        }
       ],
       "type": "table"
      }
     },
     "output_type": "display_data"
    },
    {
     "output_type": "stream",
     "name": "stdout",
     "output_type": "stream",
     "text": [
      "✅ Connection successful\n"
     ]
    }
   ],
   "source": [
    "import os\n",
    "from dotenv import load_dotenv\n",
    "\n",
    "# Load the .env file\n",
    "load_dotenv(\"/Workspace/Users/csaad.ext@simplonformations.onmicrosoft.com/.env\")  \n",
    "\n",
    "# Retrieve environment variables\n",
    "user = os.getenv(\"SQL_USER\")\n",
    "password = os.getenv(\"SQL_PASSWORD\")\n",
    "driver = os.getenv(\"SQL_DRIVER\")\n",
    "jdbc_url = os.getenv(\"SQL_JDBC_URL\")\n",
    "\n",
    "# Build connection properties\n",
    "connection_properties = {\n",
    "    \"user\": user,\n",
    "    \"password\": password,\n",
    "    \"driver\": driver\n",
    "}\n",
    "\n",
    "# Test connection\n",
    "try:\n",
    "    df = spark.read.jdbc(url=jdbc_url, table=\"(SELECT TOP 5 name FROM sys.tables) as t\", properties=connection_properties)\n",
    "    display(df)\n",
    "    print(\"✅ Connection successful\")\n",
    "except Exception as e:\n",
    "    print(\"❌ Connection failed:\", e)\n"
   ]
  },
  {
   "cell_type": "markdown",
   "metadata": {
    "application/vnd.databricks.v1+cell": {
     "cellMetadata": {},
     "inputWidgets": {},
     "nuid": "5d4aecc4-9500-4d1b-9aaf-b3902b59260d",
     "showTitle": false,
     "tableResultSettingsMap": {},
     "title": ""
    }
   },
   "source": [
    "## Enregistrer les résultats dans Azure SQL Database"
   ]
  },
  {
   "cell_type": "code",
   "execution_count": 0,
   "metadata": {
    "application/vnd.databricks.v1+cell": {
     "cellMetadata": {
      "byteLimit": 2048000,
      "rowLimit": 10000
     },
     "inputWidgets": {},
     "nuid": "8ce16f1c-f898-4a5a-aed3-0cc91c62d1d2",
     "showTitle": false,
     "tableResultSettingsMap": {},
     "title": ""
    }
   },
   "outputs": [],
   "source": [
    "tables = [\n",
    "    \"top10_depart_zones\",\n",
    "    \"avg_trips_duration_per_month\",\n",
    "    \"avg_distance_per_payment_type\",\n",
    "    \"avg_amount_per_passenger_count\",\n",
    "    \"tip_per_month\"\n",
    "]\n",
    "\n",
    "for table in tables:\n",
    "    df = spark.table(f\"brief_data_2025_results.{table}\")\n",
    "    df.write.jdbc(\n",
    "        url=jdbc_url,\n",
    "        table='brief_data_results_2025.{table}',\n",
    "        mode=\"overwrite\",\n",
    "        properties=connection_properties\n",
    "    )"
   ]
  },
  {
   "cell_type": "markdown",
   "metadata": {
    "application/vnd.databricks.v1+cell": {
     "cellMetadata": {},
     "inputWidgets": {},
     "nuid": "13fc9571-d1cc-4562-9dab-5a42c36baca1",
     "showTitle": false,
     "tableResultSettingsMap": {},
     "title": ""
    }
   },
   "source": [
    "# 2024"
   ]
  },
  {
   "cell_type": "markdown",
   "metadata": {
    "application/vnd.databricks.v1+cell": {
     "cellMetadata": {},
     "inputWidgets": {},
     "nuid": "cbf80ea0-8732-4a23-84de-bf308c0bc6e3",
     "showTitle": false,
     "tableResultSettingsMap": {},
     "title": ""
    }
   },
   "source": [
    "## Creer une base de données pour les résultats dans hive metastore"
   ]
  },
  {
   "cell_type": "code",
   "execution_count": 0,
   "metadata": {
    "application/vnd.databricks.v1+cell": {
     "cellMetadata": {
      "byteLimit": 2048000,
      "rowLimit": 10000
     },
     "inputWidgets": {},
     "nuid": "cb410a29-09bd-4fe6-a47a-a57ecb932733",
     "showTitle": false,
     "tableResultSettingsMap": {},
     "title": ""
    }
   },
   "outputs": [
    {
     "output_type": "execute_result",
     "data": {
      "text/plain": [
       "DataFrame[]"
      ]
     },
     "execution_count": 4,
     "metadata": {},
     "output_type": "execute_result"
    }
   ],
   "source": [
    "# Create db in the hive metaverse for 2024 results\n",
    "\n",
    "spark.sql(\"CREATE DATABASE IF NOT EXISTS brief_data_2024_results LOCATION 'dbfs:/user/hive/warehouse/brief_data_2024_results.db'\")"
   ]
  },
  {
   "cell_type": "markdown",
   "metadata": {
    "application/vnd.databricks.v1+cell": {
     "cellMetadata": {},
     "inputWidgets": {},
     "nuid": "3f1dc97d-1d26-45c4-b871-77589583e247",
     "showTitle": false,
     "tableResultSettingsMap": {},
     "title": ""
    }
   },
   "source": [
    "## Les requetes"
   ]
  },
  {
   "cell_type": "code",
   "execution_count": 0,
   "metadata": {
    "application/vnd.databricks.v1+cell": {
     "cellMetadata": {
      "byteLimit": 2048000,
      "rowLimit": 10000
     },
     "inputWidgets": {},
     "nuid": "99454176-ef34-4690-8e41-0af12fe3a55f",
     "showTitle": true,
     "tableResultSettingsMap": {},
     "title": "First query"
    }
   },
   "outputs": [
    {
     "output_type": "stream",
     "name": "stdout",
     "output_type": "stream",
     "text": [
      "+-----+------------+----------+----+\n|month|PULocationID|nb_trajets|rank|\n+-----+------------+----------+----+\n|    1|         132|    145243|   1|\n|    1|         161|    143470|   2|\n|    1|         237|    142709|   3|\n|    1|         236|    136464|   4|\n|    1|         162|    106718|   5|\n|    1|         230|    106324|   6|\n|    1|         186|    104522|   7|\n|    1|         142|    104081|   8|\n|    1|         138|     89535|   9|\n|    1|         239|     88474|  10|\n|    2|         161|    147089|   1|\n|    2|         237|    140800|   2|\n|    2|         236|    134000|   3|\n|    2|         132|    126802|   4|\n|    2|         162|    105937|   5|\n|    2|         230|    102280|   6|\n|    2|         186|    100416|   7|\n|    2|         142|     97253|   8|\n|    2|         239|     90849|   9|\n|    2|         163|     89182|  10|\n+-----+------------+----------+----+\nonly showing top 20 rows\n"
     ]
    }
   ],
   "source": [
    "from pyspark.sql.functions import col, month, year, avg, sum as spark_sum, count, desc, to_timestamp, expr, rank\n",
    "from pyspark.sql.window import Window\n",
    "\n",
    "# Charger les fichiers de 2024\n",
    "df_2024 = spark.read.parquet(\"dbfs:/FileStore/tables/brief_data/2024/*\")\n",
    "\n",
    "# Convertir les colonnes de dates en timestamp\n",
    "df_2024 = df_2024.withColumn(\"tpep_pickup_datetime\", to_timestamp(col(\"tpep_pickup_datetime\"))) \\\n",
    "                 .withColumn(\"tpep_dropoff_datetime\", to_timestamp(col(\"tpep_dropoff_datetime\")))\n",
    "\n",
    "\n",
    "# Ajouter colonne mois\n",
    "df_2024 = df_2024.withColumn(\"month\", month(col(\"tpep_pickup_datetime\")))\n",
    "\n",
    "# 1. Top 10 zones de départ les plus fréquentées chaque mois\n",
    "\n",
    "# Aggregate trip counts per month and pickup zone\n",
    "zone_counts = (\n",
    "    df_2024.groupBy(\"month\", \"PULocationID\")\n",
    "    .agg(count(\"*\").alias(\"nb_trajets\"))\n",
    ")\n",
    "\n",
    "# Define a window that ranks zones within each month by trip count\n",
    "windowSpec = Window.partitionBy(\"month\").orderBy(desc(\"nb_trajets\"))\n",
    "\n",
    "# Add rank column and filter top 10\n",
    "top10_depart_zones = (\n",
    "    zone_counts\n",
    "    .withColumn(\"rank\", rank().over(windowSpec))\n",
    "    .filter(col(\"rank\") <= 10)\n",
    "    .orderBy(\"month\", \"rank\")\n",
    ")\n",
    "\n",
    "top10_depart_zones.show()\n",
    "\n",
    "top10_depart_zones.write.mode(\"overwrite\").parquet(\"dbfs:/FileStore/tables/brief_data/2024_results/top10_depart_zones.parquet\")\n",
    "top10_depart_zones.write.mode(\"overwrite\").saveAsTable(\"brief_data_2024_results.top10_depart_zones\")"
   ]
  },
  {
   "cell_type": "code",
   "execution_count": 0,
   "metadata": {
    "application/vnd.databricks.v1+cell": {
     "cellMetadata": {
      "byteLimit": 2048000,
      "rowLimit": 10000
     },
     "inputWidgets": {},
     "nuid": "24e7b5e5-1130-4df3-a6cc-e4ad06b1e2be",
     "showTitle": true,
     "tableResultSettingsMap": {},
     "title": "Second query"
    }
   },
   "outputs": [
    {
     "output_type": "display_data",
     "data": {
      "text/html": [
       "<style scoped>\n",
       "  .table-result-container {\n",
       "    max-height: 300px;\n",
       "    overflow: auto;\n",
       "  }\n",
       "  table, th, td {\n",
       "    border: 1px solid black;\n",
       "    border-collapse: collapse;\n",
       "  }\n",
       "  th, td {\n",
       "    padding: 5px;\n",
       "  }\n",
       "  th {\n",
       "    text-align: left;\n",
       "  }\n",
       "</style><div class='table-result-container'><table class='table-result'><thead style='background-color: white'><tr><th>month</th><th>duree_moyenne_min</th></tr></thead><tbody><tr><td>1</td><td>15.615235721383506</td></tr><tr><td>2</td><td>15.98241409185477</td></tr><tr><td>3</td><td>16.672463906466835</td></tr><tr><td>4</td><td>17.04388893552472</td></tr><tr><td>5</td><td>18.023203569539906</td></tr><tr><td>6</td><td>17.573992443244656</td></tr><tr><td>7</td><td>17.224363835267173</td></tr><tr><td>8</td><td>17.36360182000267</td></tr><tr><td>9</td><td>18.621186183233117</td></tr><tr><td>10</td><td>18.263951978640222</td></tr><tr><td>11</td><td>17.7878440908767</td></tr><tr><td>12</td><td>18.69693671858828</td></tr></tbody></table></div>"
      ]
     },
     "metadata": {
      "application/vnd.databricks.v1+output": {
       "addedWidgets": {},
       "aggData": [],
       "aggError": "",
       "aggOverflow": false,
       "aggSchema": [],
       "aggSeriesLimitReached": false,
       "aggType": "",
       "arguments": {},
       "columnCustomDisplayInfos": {},
       "data": [
        [
         1,
         15.615235721383506
        ],
        [
         2,
         15.98241409185477
        ],
        [
         3,
         16.672463906466835
        ],
        [
         4,
         17.04388893552472
        ],
        [
         5,
         18.023203569539906
        ],
        [
         6,
         17.573992443244656
        ],
        [
         7,
         17.224363835267173
        ],
        [
         8,
         17.36360182000267
        ],
        [
         9,
         18.621186183233117
        ],
        [
         10,
         18.263951978640222
        ],
        [
         11,
         17.7878440908767
        ],
        [
         12,
         18.69693671858828
        ]
       ],
       "datasetInfos": [],
       "dbfsResultPath": null,
       "isJsonSchema": true,
       "metadata": {},
       "overflow": false,
       "plotOptions": {
        "customPlotOptions": {},
        "displayType": "table",
        "pivotAggregation": null,
        "pivotColumns": null,
        "xColumns": null,
        "yColumns": null
       },
       "removedWidgets": [],
       "schema": [
        {
         "metadata": "{}",
         "name": "month",
         "type": "\"integer\""
        },
        {
         "metadata": "{}",
         "name": "duree_moyenne_min",
         "type": "\"double\""
        }
       ],
       "type": "table"
      }
     },
     "output_type": "display_data"
    }
   ],
   "source": [
    "\n",
    "# 2. Durée moyenne des trajets par mois (en minutes)\n",
    "df_2024 = df_2024.withColumn(\n",
    "    \"trip_duration_min\",\n",
    "    (col(\"tpep_dropoff_datetime\").cast(\"long\") - col(\"tpep_pickup_datetime\").cast(\"long\")) / 60\n",
    ")\n",
    "avg_trips_duration_per_month = (\n",
    "    df_2024.groupBy(\"month\")\n",
    "    .agg(avg(\"trip_duration_min\").alias(\"duree_moyenne_min\"))\n",
    "    .orderBy(\"month\")\n",
    ")\n",
    "display(avg_trips_duration_per_month)\n",
    "avg_trips_duration_per_month.write.mode(\"overwrite\").parquet(\"dbfs:/FileStore/tables/brief_data/2024_results/avg_trips_duration_per_month.parquet\")\n",
    "avg_trips_duration_per_month.write.mode(\"overwrite\").saveAsTable(\"brief_data_2024_results.avg_trips_duration_per_month\")\n",
    "\n"
   ]
  },
  {
   "cell_type": "code",
   "execution_count": 0,
   "metadata": {
    "application/vnd.databricks.v1+cell": {
     "cellMetadata": {
      "byteLimit": 2048000,
      "rowLimit": 10000
     },
     "inputWidgets": {},
     "nuid": "aaf5ec8a-12cc-4133-a113-8f02ab594037",
     "showTitle": true,
     "tableResultSettingsMap": {},
     "title": "Third query"
    }
   },
   "outputs": [
    {
     "output_type": "display_data",
     "data": {
      "text/html": [
       "<style scoped>\n",
       "  .table-result-container {\n",
       "    max-height: 300px;\n",
       "    overflow: auto;\n",
       "  }\n",
       "  table, th, td {\n",
       "    border: 1px solid black;\n",
       "    border-collapse: collapse;\n",
       "  }\n",
       "  th, td {\n",
       "    padding: 5px;\n",
       "  }\n",
       "  th {\n",
       "    text-align: left;\n",
       "  }\n",
       "</style><div class='table-result-container'><table class='table-result'><thead style='background-color: white'><tr><th>payment_type</th><th>distance_moyenne</th></tr></thead><tbody><tr><td>0</td><td>18.33296200997551</td></tr><tr><td>1</td><td>3.5358332428908317</td></tr><tr><td>3</td><td>2.621370178547544</td></tr><tr><td>2</td><td>3.35443485735263</td></tr><tr><td>4</td><td>3.571944382210582</td></tr><tr><td>5</td><td>0.0</td></tr></tbody></table></div>"
      ]
     },
     "metadata": {
      "application/vnd.databricks.v1+output": {
       "addedWidgets": {},
       "aggData": [],
       "aggError": "",
       "aggOverflow": false,
       "aggSchema": [],
       "aggSeriesLimitReached": false,
       "aggType": "",
       "arguments": {},
       "columnCustomDisplayInfos": {},
       "data": [
        [
         0,
         18.33296200997551
        ],
        [
         1,
         3.5358332428908317
        ],
        [
         3,
         2.621370178547544
        ],
        [
         2,
         3.35443485735263
        ],
        [
         4,
         3.571944382210582
        ],
        [
         5,
         0.0
        ]
       ],
       "datasetInfos": [],
       "dbfsResultPath": null,
       "isJsonSchema": true,
       "metadata": {},
       "overflow": false,
       "plotOptions": {
        "customPlotOptions": {},
        "displayType": "table",
        "pivotAggregation": null,
        "pivotColumns": null,
        "xColumns": null,
        "yColumns": null
       },
       "removedWidgets": [],
       "schema": [
        {
         "metadata": "{}",
         "name": "payment_type",
         "type": "\"long\""
        },
        {
         "metadata": "{}",
         "name": "distance_moyenne",
         "type": "\"double\""
        }
       ],
       "type": "table"
      }
     },
     "output_type": "display_data"
    }
   ],
   "source": [
    "# 3. Distance moyenne par type de paiement\n",
    "avg_distance_per_payment_type = (\n",
    "    df_2024.groupBy(\"payment_type\")\n",
    "    .agg(avg(col(\"trip_distance\").cast(\"double\")).alias(\"distance_moyenne\"))\n",
    ")\n",
    "display(avg_distance_per_payment_type)\n",
    "avg_distance_per_payment_type.write.mode(\"overwrite\").parquet(\"dbfs:/FileStore/tables/brief_data/2024_results/avg_distance_per_payment_type.parquet\")\n",
    "avg_distance_per_payment_type.write.mode(\"overwrite\").saveAsTable(\"brief_data_2024_results.avg_distance_per_payment_type\")\n"
   ]
  },
  {
   "cell_type": "code",
   "execution_count": 0,
   "metadata": {
    "application/vnd.databricks.v1+cell": {
     "cellMetadata": {
      "byteLimit": 2048000,
      "rowLimit": 10000
     },
     "inputWidgets": {},
     "nuid": "7e51be9d-659c-4ed1-af4e-c0575eeb86fe",
     "showTitle": true,
     "tableResultSettingsMap": {},
     "title": "Fourth query"
    }
   },
   "outputs": [
    {
     "output_type": "display_data",
     "data": {
      "text/html": [
       "<style scoped>\n",
       "  .table-result-container {\n",
       "    max-height: 300px;\n",
       "    overflow: auto;\n",
       "  }\n",
       "  table, th, td {\n",
       "    border: 1px solid black;\n",
       "    border-collapse: collapse;\n",
       "  }\n",
       "  th, td {\n",
       "    padding: 5px;\n",
       "  }\n",
       "  th {\n",
       "    text-align: left;\n",
       "  }\n",
       "</style><div class='table-result-container'><table class='table-result'><thead style='background-color: white'><tr><th>passenger_count</th><th>montant_moyen</th></tr></thead><tbody><tr><td>null</td><td>24.61012771458731</td></tr><tr><td>0</td><td>25.469963000243233</td></tr><tr><td>1</td><td>27.42156528427329</td></tr><tr><td>2</td><td>31.19777104348219</td></tr><tr><td>3</td><td>30.665225669674353</td></tr><tr><td>4</td><td>32.868757045435636</td></tr><tr><td>5</td><td>28.208674757417526</td></tr><tr><td>6</td><td>27.04058290623641</td></tr><tr><td>7</td><td>68.85535714285714</td></tr><tr><td>8</td><td>90.88848958333334</td></tr><tr><td>9</td><td>87.90805555555556</td></tr></tbody></table></div>"
      ]
     },
     "metadata": {
      "application/vnd.databricks.v1+output": {
       "addedWidgets": {},
       "aggData": [],
       "aggError": "",
       "aggOverflow": false,
       "aggSchema": [],
       "aggSeriesLimitReached": false,
       "aggType": "",
       "arguments": {},
       "columnCustomDisplayInfos": {},
       "data": [
        [
         null,
         24.61012771458731
        ],
        [
         0,
         25.469963000243233
        ],
        [
         1,
         27.42156528427329
        ],
        [
         2,
         31.19777104348219
        ],
        [
         3,
         30.665225669674353
        ],
        [
         4,
         32.868757045435636
        ],
        [
         5,
         28.208674757417526
        ],
        [
         6,
         27.04058290623641
        ],
        [
         7,
         68.85535714285714
        ],
        [
         8,
         90.88848958333334
        ],
        [
         9,
         87.90805555555556
        ]
       ],
       "datasetInfos": [],
       "dbfsResultPath": null,
       "isJsonSchema": true,
       "metadata": {},
       "overflow": false,
       "plotOptions": {
        "customPlotOptions": {},
        "displayType": "table",
        "pivotAggregation": null,
        "pivotColumns": null,
        "xColumns": null,
        "yColumns": null
       },
       "removedWidgets": [],
       "schema": [
        {
         "metadata": "{}",
         "name": "passenger_count",
         "type": "\"long\""
        },
        {
         "metadata": "{}",
         "name": "montant_moyen",
         "type": "\"double\""
        }
       ],
       "type": "table"
      }
     },
     "output_type": "display_data"
    }
   ],
   "source": [
    "\n",
    "# 4. Montant moyen des courses par nombre de passagers\n",
    "avg_amount_per_passenger_count = (\n",
    "    df_2024.groupBy(\"passenger_count\")\n",
    "    .agg(avg(col(\"total_amount\").cast(\"double\")).alias(\"montant_moyen\"))\n",
    "    .orderBy(\"passenger_count\")\n",
    ")\n",
    "display(avg_amount_per_passenger_count)\n",
    "\n",
    "avg_amount_per_passenger_count.write.mode(\"overwrite\").parquet(\"dbfs:/FileStore/tables/brief_data/2024_results/avg_amount_per_passenger_count.parquet\")\n",
    "avg_amount_per_passenger_count.write.mode(\"overwrite\").saveAsTable(\"brief_data_2024_results.avg_amount_per_passenger_count\")\n",
    "\n",
    "\n"
   ]
  },
  {
   "cell_type": "code",
   "execution_count": 0,
   "metadata": {
    "application/vnd.databricks.v1+cell": {
     "cellMetadata": {
      "byteLimit": 2048000,
      "rowLimit": 10000
     },
     "inputWidgets": {},
     "nuid": "c55a065b-efda-4fec-acb6-3152816307f9",
     "showTitle": true,
     "tableResultSettingsMap": {},
     "title": "Fifth query"
    }
   },
   "outputs": [
    {
     "output_type": "display_data",
     "data": {
      "text/html": [
       "<style scoped>\n",
       "  .table-result-container {\n",
       "    max-height: 300px;\n",
       "    overflow: auto;\n",
       "  }\n",
       "  table, th, td {\n",
       "    border: 1px solid black;\n",
       "    border-collapse: collapse;\n",
       "  }\n",
       "  th, td {\n",
       "    padding: 5px;\n",
       "  }\n",
       "  th {\n",
       "    text-align: left;\n",
       "  }\n",
       "</style><div class='table-result-container'><table class='table-result'><thead style='background-color: white'><tr><th>month</th><th>somme_pourboires</th></tr></thead><tbody><tr><td>1</td><td>9889652.120006042</td></tr><tr><td>2</td><td>9933402.770005118</td></tr><tr><td>3</td><td>1.1431414430006536E7</td></tr><tr><td>4</td><td>1.1351432030008027E7</td></tr><tr><td>5</td><td>1.2371062920007193E7</td></tr><tr><td>6</td><td>1.15105362200056E7</td></tr><tr><td>7</td><td>1.0041391480004491E7</td></tr><tr><td>8</td><td>9724912.200004473</td></tr><tr><td>9</td><td>1.2021705790005177E7</td></tr><tr><td>10</td><td>1.3130067950006422E7</td></tr><tr><td>11</td><td>1.2088442190008085E7</td></tr><tr><td>12</td><td>1.2690638740008106E7</td></tr></tbody></table></div>"
      ]
     },
     "metadata": {
      "application/vnd.databricks.v1+output": {
       "addedWidgets": {},
       "aggData": [],
       "aggError": "",
       "aggOverflow": false,
       "aggSchema": [],
       "aggSeriesLimitReached": false,
       "aggType": "",
       "arguments": {},
       "columnCustomDisplayInfos": {},
       "data": [
        [
         1,
         9889652.120006042
        ],
        [
         2,
         9933402.770005118
        ],
        [
         3,
         1.1431414430006536E7
        ],
        [
         4,
         1.1351432030008027E7
        ],
        [
         5,
         1.2371062920007193E7
        ],
        [
         6,
         1.15105362200056E7
        ],
        [
         7,
         1.0041391480004491E7
        ],
        [
         8,
         9724912.200004473
        ],
        [
         9,
         1.2021705790005177E7
        ],
        [
         10,
         1.3130067950006422E7
        ],
        [
         11,
         1.2088442190008085E7
        ],
        [
         12,
         1.2690638740008106E7
        ]
       ],
       "datasetInfos": [],
       "dbfsResultPath": null,
       "isJsonSchema": true,
       "metadata": {},
       "overflow": false,
       "plotOptions": {
        "customPlotOptions": {},
        "displayType": "table",
        "pivotAggregation": null,
        "pivotColumns": null,
        "xColumns": null,
        "yColumns": null
       },
       "removedWidgets": [],
       "schema": [
        {
         "metadata": "{}",
         "name": "month",
         "type": "\"integer\""
        },
        {
         "metadata": "{}",
         "name": "somme_pourboires",
         "type": "\"double\""
        }
       ],
       "type": "table"
      }
     },
     "output_type": "display_data"
    }
   ],
   "source": [
    "# 5. Somme totale des pourboires versés chaque mois\n",
    "tip_per_month = (\n",
    "    df_2024.groupBy(\"month\")\n",
    "    .agg(spark_sum(col(\"tip_amount\").cast(\"double\")).alias(\"somme_pourboires\"))\n",
    "    .orderBy(\"month\")\n",
    ")\n",
    "display(tip_per_month)\n",
    "\n",
    "tip_per_month.write.mode(\"overwrite\").parquet(\"dbfs:/FileStore/tables/brief_data/2024_results/tip_per_month.parquet\")\n",
    "tip_per_month.write.mode(\"overwrite\").saveAsTable(\"brief_data_2024_results.tip_per_month\")\n"
   ]
  },
  {
   "cell_type": "markdown",
   "metadata": {
    "application/vnd.databricks.v1+cell": {
     "cellMetadata": {},
     "inputWidgets": {},
     "nuid": "67cb7949-37d6-4cbe-af55-dddbed9fbeb4",
     "showTitle": false,
     "tableResultSettingsMap": {},
     "title": ""
    }
   },
   "source": [
    "## Enregistrer les résultats dans Azure SQL Database"
   ]
  },
  {
   "cell_type": "code",
   "execution_count": 0,
   "metadata": {
    "application/vnd.databricks.v1+cell": {
     "cellMetadata": {
      "byteLimit": 2048000,
      "rowLimit": 10000
     },
     "inputWidgets": {},
     "nuid": "73c8be44-0411-4639-9c82-8623cc6a51a7",
     "showTitle": false,
     "tableResultSettingsMap": {},
     "title": ""
    }
   },
   "outputs": [],
   "source": [
    "tables = [\n",
    "    \"top10_depart_zones\",\n",
    "    \"avg_trips_duration_per_month\",\n",
    "    \"avg_distance_per_payment_type\",\n",
    "    \"avg_amount_per_passenger_count\",\n",
    "    \"tip_per_month\"\n",
    "]\n",
    "\n",
    "for table in tables:\n",
    "    df = spark.table(f\"brief_data_2024_results.{table}\")\n",
    "    df.write.jdbc(\n",
    "        url=jdbc_url,\n",
    "        table=f\"brief_data_results_2024.{table}\",\n",
    "        mode=\"overwrite\",\n",
    "        properties=connection_properties\n",
    "    )"
   ]
  }
 ],
 "metadata": {
  "application/vnd.databricks.v1+notebook": {
   "computePreferences": null,
   "dashboards": [],
   "environmentMetadata": {
    "base_environment": "",
    "environment_version": "4"
   },
   "inputWidgetPreferences": null,
   "language": "python",
   "notebookMetadata": {
    "pythonIndentUnit": 4
   },
   "notebookName": "CS_Brief_Notebook",
   "widgets": {}
  },
  "language_info": {
   "name": "python"
  }
 },
 "nbformat": 4,
 "nbformat_minor": 0
}